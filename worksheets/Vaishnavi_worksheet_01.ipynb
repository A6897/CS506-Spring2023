{
  "cells": [
    {
      "cell_type": "markdown",
      "metadata": {
        "id": "OLkdzWJASmFO"
      },
      "source": [
        "# Worksheet 01\n",
        "\n",
        "Name: Vaishnavi Vadlamudi \n",
        "UID: U19250166\n",
        "\n",
        "### Topics\n",
        "\n",
        "- Git\n",
        "\n",
        "## Prerequisites (installations)\n",
        "\n",
        "#### This is your checklist:\n",
        "\n",
        "- [x] Access to terminal\n",
        "- [x] Install Git\n",
        "- [x] Sign up for a GitHub account\n",
        "- [x] Choose editor\n",
        "- [x] Set up ssh keys\n",
        "- [x] Configure git\n",
        "\n",
        "### Step 1: Work Environment:  Access to Terminal \n",
        "\n",
        "- Mac/Linux: use **Terminal**\n",
        "- Windows:\n",
        "\t- Option 1:  [Power Shell](https://www.digitalcitizen.life/simple-questions-what-powershell-what-can-you-do-it)\n",
        "\t- Option 2:  Git Bash (recommended)\n",
        "\t\n",
        "### Step 2: Install Git\n",
        "\n",
        "- Mac:  \n",
        "\t- [Git](https://git-scm.com/download/mac)\n",
        "- Windows:  \n",
        "\t- [Git for Windows (Git Bash)](https://gitforwindows.org/)\n",
        "- Linux:\n",
        "\t- [Install Git on Linux](https://www.atlassian.com/git/tutorials/install-git#linux)\n",
        "\n",
        "Confirm Git is installed by typing `git --version` on your terminal\n",
        "\n",
        "### Step 3: Sign up for a GitHub Account\n",
        " \n",
        " Go to [github.com](https://github.com/)\n",
        "\n",
        "### Step 4: Choose a Graphical Editor\n",
        "\n",
        "- Try Visual Studio Code\n",
        "\t* [Visual Studio Code](https://visualstudio.microsoft.com/downloads/)\n",
        "- OR one of these other editors\n",
        "\t* [Sublime Text 3](https://www.sublimetext.com/)\n",
        "\t* [Atom](https://atom.io/) \n",
        "\t* [Notepad++](https://notepad-plus-plus.org/) (for Windows)\n",
        "\n",
        "### Step 5: SSH Setup\n",
        "\n",
        "#### Mac & Linux Users\n",
        "\n",
        "Go to home directory (in terminal)\n",
        "\n",
        "```bash\n",
        "% cd ~\n",
        "% pwd\n",
        "/Users/gallettilance\n",
        "```\n",
        "\n",
        "Go to `.ssh` directory\n",
        "\n",
        "```bash\n",
        "% pwd\n",
        "/Users/gallettilance\n",
        "% cd .ssh\n",
        "% pwd\n",
        "/Users/gallettilance/.ssh \n",
        "```\n",
        "\n",
        "**Note:**  If you do not have the `.ssh` directory, you can create it\n",
        "\n",
        "- if you are in your home directory:\n",
        "\t- <kbd> mkdir .ssh </kbd>  \n",
        "- if you are not in your home directory:\n",
        "\t- <kbd> mkdir ~/.ssh </kbd>  \n",
        "\n",
        "Generate `id_rsa` keypair files if needed\n",
        "\n",
        "- **Note:**  these `id_rsa` files contain a special password for your computer to be connect to network services (Ex:  GitHub, AWS).\n",
        "- Check to see if these files exist by typing <kbd> ls -alt</kbd>\n",
        "- If you do not have these two files (`id_rsa` and `id_rsa.pub`), create them by typing:  \n",
        "\t- <kbd> ssh-keygen</kbd>\n",
        "\t- Hit  <kbd> enter  </kbd> **3 times**\n",
        "\n",
        "```bash\n",
        "% pwd \n",
        "/Users/gallettilance/.ssh\n",
        "% ls\n",
        "% ssh-keygen\n",
        "Generating public/private rsa key pair.\n",
        "Enter file in which to save the key (/Users/gallettilance/.ssh/id_rsa): \n",
        "Enter passphrase (empty for no passphrase): \n",
        "Enter same passphrase again: \n",
        "Your identification has been saved in /Users/gallettilance/.ssh/id_rsa.\n",
        "Your public key has been saved in /Users/gallettilance/.ssh/id_rsa.pub.\n",
        "The key fingerprint is:\n",
        "SHA256:jmDJes1qOzDi8KynXLGQ098JMSRnbIyt0w7vSgEsr2E gallettilance@RESHAMAs-MacBook-Pro.local\n",
        "The key's randomart image is:\n",
        "+---[RSA 2048]----+\n",
        "|   .=+           |\n",
        "|.  .==           |\n",
        "|.o  +o           |\n",
        "|..+= oo          |\n",
        "|.E.+X.  S        |\n",
        "|+o=o=*oo.        |\n",
        "|++.*o.+o.        |\n",
        "|..*.oo           |\n",
        "|o= o+o           |\n",
        "+----[SHA256]-----+\n",
        "% ls\n",
        "total 16\n",
        "-rw-------  1   1675 Dec 17 12:20 id_rsa\n",
        "-rw-r--r--  1    422 Dec 17 12:20 id_rsa.pub\n",
        "% \n",
        "```\n",
        "\n",
        "Navigate to the `.ssh` directory\n",
        "\n",
        "<kbd> cd ~/.ssh </kbd>  \n",
        "\n",
        "open `id_rsa.pub` using your editor of choice and copy its contents. Add `ssh` key to GitHub by following these steps:\n",
        "\n",
        "- go to your [GitHub account](https://github.com/) (create one if you don't have one, and save your user name and password somewhere easily accessible for you.)\n",
        "- click on your avatar/profile picture (upper right of screen)\n",
        "- go to `Settings`\n",
        "- on left of screen, select `SSH and GPG keys`\n",
        "- Select <kbd> New SSH key </kbd>\n",
        "- for \"Title\":  entitle it  \"GitHub key\"\n",
        "- for \"Key\":  paste key from clipboard here\n",
        "- click <kbd> Add SSH key </kbd>\n",
        "- save, exit, confirm GitHub password as requested\n",
        "\n",
        "#### Windows Users\n",
        "\n",
        "Follow [How to Create SSH Keys with PuTTY on Windows](https://www.digitalocean.com/docs/droplets/how-to/add-ssh-keys/create-with-putty/)\n",
        "\n",
        "### Step 6: Configure Git\n",
        "\n",
        "#### Configure user name and email (lets Git know who you are)\n",
        "\n",
        "<kbd> git config --global user.name \"First Last\"  </kbd>  \n",
        "<kbd> git config --global user.email \"myname@email.com\"  </kbd>  \n",
        "\n",
        "To verify these additions, type:  \n",
        "<kbd> git config --list  </kbd>  \n",
        "\n",
        "#### Default Editor\n",
        "\n",
        "The default editor will be [Vim](https://vim.rtorr.com/). You may want to look up how to edit, save, and close vim as this can't be done with just point and click (you must use the vim commands)."
      ]
    },
    {
      "cell_type": "markdown",
      "metadata": {
        "id": "rMvOehjXSmFS"
      },
      "source": [
        "### Git / GitHub\n",
        "\n",
        "a) what is the difference between git and github?"
      ]
    },
    {
      "cell_type": "markdown",
      "metadata": {
        "id": "voE9uHLWSmFT"
      },
      "source": [
        "Git is useful for keeping track of code history. Github makes it easier to manage them."
      ]
    },
    {
      "cell_type": "markdown",
      "metadata": {
        "id": "noMP9548SmFT"
      },
      "source": [
        "b) what command would you use to copy a repo locally?"
      ]
    },
    {
      "cell_type": "markdown",
      "metadata": {
        "id": "l_VXLmcMSmFU"
      },
      "source": [
        "git clone"
      ]
    },
    {
      "cell_type": "markdown",
      "metadata": {
        "id": "m4oYUKxQSmFU"
      },
      "source": [
        "c) what button would you use to make a copy of a repo in GitHub?"
      ]
    },
    {
      "cell_type": "markdown",
      "metadata": {
        "id": "0jbllsAySmFV"
      },
      "source": [
        "fork"
      ]
    },
    {
      "cell_type": "markdown",
      "metadata": {
        "id": "13h72V-hSmFV"
      },
      "source": [
        "d) let's say you have a copy of a repo in GitHub but that repo changes, does your copy change too?"
      ]
    },
    {
      "cell_type": "markdown",
      "metadata": {
        "id": "1lvZitbOSmFW"
      },
      "source": [
        "No, my copy does not change on its own. To change my copy, I should use the appropriate commands."
      ]
    },
    {
      "cell_type": "markdown",
      "metadata": {
        "id": "1jnf_zb9SmFX"
      },
      "source": [
        "e) what are the three commands you use to create a new save point in your git repo and back it up to GitHub?"
      ]
    },
    {
      "cell_type": "markdown",
      "metadata": {
        "id": "elpw59UZSmFX"
      },
      "source": [
        "1. git add\n",
        "2. git commit\n",
        "3. git push"
      ]
    },
    {
      "cell_type": "markdown",
      "metadata": {
        "id": "MnncYP5bSmFX"
      },
      "source": [
        "f) how would you make your copy change so that it has the most up-to-date version of the repo it is copied from?"
      ]
    },
    {
      "cell_type": "markdown",
      "metadata": {
        "id": "YwUZZb57SmFX"
      },
      "source": [
        "git pull origin main. This command helps to pull the changes from the remote repo and makes my copy upto date."
      ]
    },
    {
      "cell_type": "markdown",
      "metadata": {
        "id": "XvzURepVSmFY"
      },
      "source": [
        "g) why are there sometimes conflicts between copied repos / branches? How do you resolve them?"
      ]
    },
    {
      "cell_type": "markdown",
      "metadata": {
        "id": "UG6estJ8SmFY"
      },
      "source": [
        "Conflicts arise from the fact that each branch may have different version histories / previous commits. We can fix this using the rebase process. This process is typically manual, and we basically tell GitHub what to commit at each stage where there are conflicts."
      ]
    },
    {
      "cell_type": "markdown",
      "metadata": {
        "id": "dKj5y_1SSmFY"
      },
      "source": [
        "h) describe all the steps needed to make a PR to contribute your notes to the class repository."
      ]
    },
    {
      "cell_type": "markdown",
      "metadata": {
        "id": "UPceeZgDSmFZ"
      },
      "source": [
        "To begin, create a fork of the class repository. \n",
        "Second, modify the repository as needed and commit your changes. \n",
        "Third, use the git push command to push the commits, followed by the creation of a pull request."
      ]
    },
    {
      "cell_type": "markdown",
      "metadata": {
        "id": "o6vRFEOiSmFZ"
      },
      "source": [
        "i) Write here some other commands we used in class and what they mean / how to use them:"
      ]
    },
    {
      "cell_type": "markdown",
      "metadata": {
        "id": "G-9jk8-5SmFZ"
      },
      "source": [
        "git rebase -i -> This is an interactive rebase command that allows us to integrate multiple branches and resolve merge conflicts. \n",
        "\n",
        "git status -> displays the current state of the files in the repository. should be used frequently. \n",
        "\n",
        "Before pulling, use git fetch to see what changes have been made in the remote repository. \n",
        "\n",
        "git diff -> aids in identifying differences in a modified file. \n",
        "\n",
        "git squash -> This combines multiple commits and squashes them into a single commit. This is useful when making a lot of small changes.\n",
        "\n",
        "git reset HEAD1 -> This command resets the commit by one. \n",
        "\n",
        "git log -> displays the commit history (press q to leave). \n",
        "\n"
      ]
    }
  ],
  "metadata": {
    "kernelspec": {
      "display_name": "Python 3 (ipykernel)",
      "language": "python",
      "name": "python3"
    },
    "language_info": {
      "codemirror_mode": {
        "name": "ipython",
        "version": 3
      },
      "file_extension": ".py",
      "mimetype": "text/x-python",
      "name": "python",
      "nbconvert_exporter": "python",
      "pygments_lexer": "ipython3",
      "version": "3.9.13"
    },
    "vscode": {
      "interpreter": {
        "hash": "76ca05dc3ea24b2e3b98cdb7774adfbb40773424bf5109b477fd793f623715af"
      }
    },
    "colab": {
      "provenance": []
    }
  },
  "nbformat": 4,
  "nbformat_minor": 0
}